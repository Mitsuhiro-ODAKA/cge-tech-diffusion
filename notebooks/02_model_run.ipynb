{
 "cells": [
  {
   "cell_type": "markdown",
   "id": "69dd9855-1875-420d-b752-d3e59ef48970",
   "metadata": {},
   "source": [
    "# 02 Model Run\n",
    "\n",
    "このノートブックでは、\n",
    "1. キャリブレーション→`results/params.json` を生成  \n",
    "2. BAU／Policy シナリオ実行  \n",
    "3. 出力 CSV（技術水準タイムシリーズ）の確認  \n",
    "を行います。\n"
   ]
  },
  {
   "cell_type": "code",
   "execution_count": null,
   "id": "f8c94efd-4335-4249-9ca4-9f07d3773f65",
   "metadata": {},
   "outputs": [],
   "source": [
    "# !conda install -c conda-forge ipopt"
   ]
  },
  {
   "cell_type": "code",
   "execution_count": 1,
   "id": "a89fd2dc-9e0f-476e-9a7b-9b1b54c5b705",
   "metadata": {},
   "outputs": [
    {
     "data": {
      "text/plain": [
       "True"
      ]
     },
     "execution_count": 1,
     "metadata": {},
     "output_type": "execute_result"
    }
   ],
   "source": [
    "from pyomo.environ import SolverFactory\n",
    "SolverFactory('ipopt').available()"
   ]
  },
  {
   "cell_type": "code",
   "execution_count": 2,
   "id": "4d82e993-524e-4596-83bf-71a31488f892",
   "metadata": {},
   "outputs": [],
   "source": [
    "import os, sys\n",
    "sys.path.insert(0, os.path.abspath('..'))"
   ]
  },
  {
   "cell_type": "code",
   "execution_count": 3,
   "id": "2080d367-2f18-468c-8313-07c8f6a2e4ef",
   "metadata": {},
   "outputs": [
    {
     "name": "stdout",
     "output_type": "stream",
     "text": [
      "Calibration output -> ../results/params.json\n"
     ]
    }
   ],
   "source": [
    "# キャリブレーション\n",
    "!python ../src/calibration.py \\\n",
    "    --sam ../data/processed/sam.csv \\\n",
    "    --out ../results/params.json"
   ]
  },
  {
   "cell_type": "code",
   "execution_count": 4,
   "id": "39c8e4a9-fb90-44c7-854c-3e280fd21499",
   "metadata": {},
   "outputs": [
    {
     "name": "stdout",
     "output_type": "stream",
     "text": [
      "Saved ../results/bau_tech_time_series.csv (carbon_price=0.0)\n",
      "Saved ../results/policy_tech_time_series.csv (carbon_price=50.0)\n"
     ]
    }
   ],
   "source": [
    "# BAU (carbon_price=0) 実行\n",
    "!python ../src/scenarios.py \\\n",
    "    --params ../results/params.json \\\n",
    "    --out ../results/bau_tech_time_series.csv \\\n",
    "    --price 0.0"
   ]
  },
  {
   "cell_type": "code",
   "execution_count": 5,
   "id": "e096f5a8-44e9-4f9c-a2b2-d6619fe82124",
   "metadata": {},
   "outputs": [
    {
     "name": "stdout",
     "output_type": "stream",
     "text": [
      "Saved ../results/policy_tech_time_series.csv (carbon_price=50.0)\n",
      "Saved ../results/policy_tech_time_series.csv (carbon_price=50.0)\n"
     ]
    }
   ],
   "source": [
    "# カーボンプライス 50 を導入した政策シナリオ\n",
    "!python ../src/scenarios.py \\\n",
    "    --params ../results/params.json \\\n",
    "    --out ../results/policy_tech_time_series.csv \\\n",
    "    --price 50.0\n"
   ]
  },
  {
   "cell_type": "code",
   "execution_count": 6,
   "id": "3b850a90-a88f-4ce8-9fdb-87c2371620a4",
   "metadata": {},
   "outputs": [
    {
     "name": "stdout",
     "output_type": "stream",
     "text": [
      "BAU time series:\n"
     ]
    },
    {
     "data": {
      "text/html": [
       "<div>\n",
       "<style scoped>\n",
       "    .dataframe tbody tr th:only-of-type {\n",
       "        vertical-align: middle;\n",
       "    }\n",
       "\n",
       "    .dataframe tbody tr th {\n",
       "        vertical-align: top;\n",
       "    }\n",
       "\n",
       "    .dataframe thead th {\n",
       "        text-align: right;\n",
       "    }\n",
       "</style>\n",
       "<table border=\"1\" class=\"dataframe\">\n",
       "  <thead>\n",
       "    <tr style=\"text-align: right;\">\n",
       "      <th></th>\n",
       "      <th>region</th>\n",
       "      <th>time</th>\n",
       "      <th>tech</th>\n",
       "    </tr>\n",
       "  </thead>\n",
       "  <tbody>\n",
       "    <tr>\n",
       "      <th>0</th>\n",
       "      <td>A</td>\n",
       "      <td>0</td>\n",
       "      <td>1.000000</td>\n",
       "    </tr>\n",
       "    <tr>\n",
       "      <th>1</th>\n",
       "      <td>B</td>\n",
       "      <td>0</td>\n",
       "      <td>0.800000</td>\n",
       "    </tr>\n",
       "    <tr>\n",
       "      <th>2</th>\n",
       "      <td>C</td>\n",
       "      <td>0</td>\n",
       "      <td>0.500000</td>\n",
       "    </tr>\n",
       "    <tr>\n",
       "      <th>3</th>\n",
       "      <td>A</td>\n",
       "      <td>1</td>\n",
       "      <td>0.935661</td>\n",
       "    </tr>\n",
       "    <tr>\n",
       "      <th>4</th>\n",
       "      <td>B</td>\n",
       "      <td>1</td>\n",
       "      <td>0.790152</td>\n",
       "    </tr>\n",
       "  </tbody>\n",
       "</table>\n",
       "</div>"
      ],
      "text/plain": [
       "  region  time      tech\n",
       "0      A     0  1.000000\n",
       "1      B     0  0.800000\n",
       "2      C     0  0.500000\n",
       "3      A     1  0.935661\n",
       "4      B     1  0.790152"
      ]
     },
     "metadata": {},
     "output_type": "display_data"
    },
    {
     "name": "stdout",
     "output_type": "stream",
     "text": [
      "Policy time series:\n"
     ]
    },
    {
     "data": {
      "text/html": [
       "<div>\n",
       "<style scoped>\n",
       "    .dataframe tbody tr th:only-of-type {\n",
       "        vertical-align: middle;\n",
       "    }\n",
       "\n",
       "    .dataframe tbody tr th {\n",
       "        vertical-align: top;\n",
       "    }\n",
       "\n",
       "    .dataframe thead th {\n",
       "        text-align: right;\n",
       "    }\n",
       "</style>\n",
       "<table border=\"1\" class=\"dataframe\">\n",
       "  <thead>\n",
       "    <tr style=\"text-align: right;\">\n",
       "      <th></th>\n",
       "      <th>region</th>\n",
       "      <th>time</th>\n",
       "      <th>tech</th>\n",
       "    </tr>\n",
       "  </thead>\n",
       "  <tbody>\n",
       "    <tr>\n",
       "      <th>0</th>\n",
       "      <td>A</td>\n",
       "      <td>0</td>\n",
       "      <td>1.000000</td>\n",
       "    </tr>\n",
       "    <tr>\n",
       "      <th>1</th>\n",
       "      <td>B</td>\n",
       "      <td>0</td>\n",
       "      <td>0.800000</td>\n",
       "    </tr>\n",
       "    <tr>\n",
       "      <th>2</th>\n",
       "      <td>C</td>\n",
       "      <td>0</td>\n",
       "      <td>0.500000</td>\n",
       "    </tr>\n",
       "    <tr>\n",
       "      <th>3</th>\n",
       "      <td>A</td>\n",
       "      <td>1</td>\n",
       "      <td>0.960661</td>\n",
       "    </tr>\n",
       "    <tr>\n",
       "      <th>4</th>\n",
       "      <td>B</td>\n",
       "      <td>1</td>\n",
       "      <td>0.810152</td>\n",
       "    </tr>\n",
       "  </tbody>\n",
       "</table>\n",
       "</div>"
      ],
      "text/plain": [
       "  region  time      tech\n",
       "0      A     0  1.000000\n",
       "1      B     0  0.800000\n",
       "2      C     0  0.500000\n",
       "3      A     1  0.960661\n",
       "4      B     1  0.810152"
      ]
     },
     "metadata": {},
     "output_type": "display_data"
    }
   ],
   "source": [
    "import pandas as pd\n",
    "\n",
    "df_bau    = pd.read_csv('../results/bau_tech_time_series.csv')\n",
    "df_policy = pd.read_csv('../results/policy_tech_time_series.csv')\n",
    "\n",
    "print(\"BAU time series:\")\n",
    "display(df_bau.head())\n",
    "\n",
    "print(\"Policy time series:\")\n",
    "display(df_policy.head())\n"
   ]
  },
  {
   "cell_type": "code",
   "execution_count": null,
   "id": "940c894e-33bc-43e0-938f-fec19c9ebe3b",
   "metadata": {},
   "outputs": [],
   "source": []
  }
 ],
 "metadata": {
  "kernelspec": {
   "display_name": "Python 3 (ipykernel)",
   "language": "python",
   "name": "python3"
  },
  "language_info": {
   "codemirror_mode": {
    "name": "ipython",
    "version": 3
   },
   "file_extension": ".py",
   "mimetype": "text/x-python",
   "name": "python",
   "nbconvert_exporter": "python",
   "pygments_lexer": "ipython3",
   "version": "3.11.13"
  }
 },
 "nbformat": 4,
 "nbformat_minor": 5
}
